{
 "cells": [
  {
   "cell_type": "code",
   "execution_count": 1,
   "metadata": {},
   "outputs": [
    {
     "name": "stdout",
     "output_type": "stream",
     "text": [
      "╒═══════╤══════════════╤═══════════════════════╕\n",
      "│     n │     Promedio │   Desviacion Estandar │\n",
      "╞═══════╪══════════════╪═══════════════════════╡\n",
      "│   100 │   0.00100408 │           1.05034e-05 │\n",
      "├───────┼──────────────┼───────────────────────┤\n",
      "│  1000 │   0.0766014  │           0.00461269  │\n",
      "├───────┼──────────────┼───────────────────────┤\n",
      "│  2000 │   0.408625   │           0.00815552  │\n",
      "├───────┼──────────────┼───────────────────────┤\n",
      "│  3000 │   1.06069    │           0.0371665   │\n",
      "├───────┼──────────────┼───────────────────────┤\n",
      "│  4000 │   1.83653    │           0.0235117   │\n",
      "├───────┼──────────────┼───────────────────────┤\n",
      "│  5000 │   2.92558    │           0.0462259   │\n",
      "├───────┼──────────────┼───────────────────────┤\n",
      "│  6000 │   4.23121    │           0.104465    │\n",
      "├───────┼──────────────┼───────────────────────┤\n",
      "│  7000 │   5.7844     │           0.160853    │\n",
      "├───────┼──────────────┼───────────────────────┤\n",
      "│  8000 │   7.59435    │           0.0836083   │\n",
      "├───────┼──────────────┼───────────────────────┤\n",
      "│  9000 │   9.81185    │           0.350118    │\n",
      "├───────┼──────────────┼───────────────────────┤\n",
      "│ 10000 │  12.5024     │           0.618652    │\n",
      "├───────┼──────────────┼───────────────────────┤\n",
      "│ 20000 │  46.8308     │           0.746774    │\n",
      "├───────┼──────────────┼───────────────────────┤\n",
      "│ 30000 │ 114.431      │           3.64621     │\n",
      "├───────┼──────────────┼───────────────────────┤\n",
      "│ 40000 │ 206.628      │           1.96436     │\n",
      "├───────┼──────────────┼───────────────────────┤\n",
      "│ 50000 │ 184.463      │           2.56335     │\n",
      "╘═══════╧══════════════╧═══════════════════════╛\n"
     ]
    }
   ],
   "source": [
    "from tabulate import tabulate\n",
    "import time\n",
    "import math\n",
    "\n",
    "def insertionSort(arr):\n",
    "    for i in range(1, len(arr)):\n",
    "        key = arr[i]\n",
    "        j = i-1\n",
    "        while j >= 0 and arr[j]>key :\n",
    "            arr[j + 1] = arr[j]\n",
    "            j -= 1\n",
    "        arr[j + 1] = key\n",
    "\n",
    "def printArray(arr):\n",
    "    for i in range(len(arr)):\n",
    "        print(arr[i])\n",
    "\n",
    "\n",
    "ns=[100,1000, 2000, 3000, 4000, 5000, 6000, 7000, 8000, 9000, 10000, 20000, 30000, 40000,50000]\n",
    "prom=[]\n",
    "dvs=[]\n",
    "\n",
    "arr2=[\"test1.txt\",\"test2.txt\", \"test3.txt\", \"test4.txt\", \"test5.txt\", \"test6.txt\", \"test7.txt\", \"test8.txt\", \"test9.txt\", \"test10.txt\", \"test11.txt\", \"test12.txt\", \"test13.txt\", \"test14.txt\",\"test15.txt\"]\n",
    "for i in range(0,15):\n",
    "    lprom=[]\n",
    "    for k in range(0,5):\n",
    "        arr = []\n",
    "        archivo = open(arr2[i], \"r\", encoding='utf-8')\n",
    "        for linea in archivo:\n",
    "            arr.append(int(linea.strip()))\n",
    "        archivo.close\n",
    "        inicio = time.time()\n",
    "        insertionSort(arr)\n",
    "        fin = time.time()\n",
    "        lprom.append(fin-inicio)\n",
    "    promf = 0\n",
    "    for j in range(0,5):\n",
    "        promf += lprom[j]\n",
    "    promf = (promf/5)\n",
    "    prom.append(promf)\n",
    "    devst=0\n",
    "    for m in range(0,5):\n",
    "        devst += pow(lprom[m]-promf,2)\n",
    "    devst=math.sqrt(devst/4)\n",
    "    dvs.append(devst)\n",
    " \n",
    "print(tabulate({'n': ns, 'Promedio': prom, 'Desviacion Estandar': dvs}, headers=\"keys\", tablefmt='fancy_grid'))"
   ]
  }
 ],
 "metadata": {
  "kernelspec": {
   "display_name": "Python 3.9.7 ('base')",
   "language": "python",
   "name": "python3"
  },
  "language_info": {
   "codemirror_mode": {
    "name": "ipython",
    "version": 3
   },
   "file_extension": ".py",
   "mimetype": "text/x-python",
   "name": "python",
   "nbconvert_exporter": "python",
   "pygments_lexer": "ipython3",
   "version": "3.9.7"
  },
  "orig_nbformat": 4,
  "vscode": {
   "interpreter": {
    "hash": "5aa962ae0347ec2f96ef5eb08470570f688aa08189a6b7697d1b29d41e2763b9"
   }
  }
 },
 "nbformat": 4,
 "nbformat_minor": 2
}
